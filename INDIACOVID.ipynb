{
  "nbformat": 4,
  "nbformat_minor": 0,
  "metadata": {
    "colab": {
      "name": "INDIACOVID.ipynb",
      "provenance": [],
      "private_outputs": true,
      "collapsed_sections": [],
      "authorship_tag": "ABX9TyNhdq98Nkn8JWLZnCOdawpZ",
      "include_colab_link": true
    },
    "kernelspec": {
      "name": "python3",
      "display_name": "Python 3"
    }
  },
  "cells": [
    {
      "cell_type": "markdown",
      "metadata": {
        "id": "view-in-github",
        "colab_type": "text"
      },
      "source": [
        "<a href=\"https://colab.research.google.com/github/engineerscodes/COVID_19_TRACKER/blob/master/INDIACOVID.ipynb\" target=\"_parent\"><img src=\"https://colab.research.google.com/assets/colab-badge.svg\" alt=\"Open In Colab\"/></a>"
      ]
    },
    {
      "cell_type": "code",
      "metadata": {
        "id": "qqTkiN2LJqaQ",
        "colab_type": "code",
        "colab": {}
      },
      "source": [
        "\n",
        "from google.colab import drive\n",
        "drive.mount('/content/grive')"
      ],
      "execution_count": null,
      "outputs": []
    },
    {
      "cell_type": "code",
      "metadata": {
        "id": "xJ9ooHZkEoHw",
        "colab_type": "code",
        "colab": {}
      },
      "source": [
        "!wget \"https://drive.google.com/uc?export=download&id=1RwYIsSTax0gsQVr8PLKOPwB4BO5CN1p9\" -O india_covid_19_info.py"
      ],
      "execution_count": null,
      "outputs": []
    },
    {
      "cell_type": "code",
      "metadata": {
        "id": "W14pDAq-Gse1",
        "colab_type": "code",
        "colab": {}
      },
      "source": [
        "%%capture\n",
        "!python india_covid_19_info.py"
      ],
      "execution_count": null,
      "outputs": []
    },
    {
      "cell_type": "code",
      "metadata": {
        "id": "rOQJoRFE_qkH",
        "colab_type": "code",
        "colab": {}
      },
      "source": [
        "#!wget \"https://drive.google.com/uc?export=download&id=1-QseMOhwLVCbijjO2mcMc_xXL3Bd2rM8\" -O data.csv"
      ],
      "execution_count": null,
      "outputs": []
    },
    {
      "cell_type": "code",
      "metadata": {
        "id": "-AvFVoM-B3jK",
        "colab_type": "code",
        "colab": {}
      },
      "source": [
        "#https://drive.google.com/file/d/1-QseMOhwLVCbijjO2mcMc_xXL3Bd2rM8/view?usp=sharing"
      ],
      "execution_count": null,
      "outputs": []
    },
    {
      "cell_type": "code",
      "metadata": {
        "id": "3LJqTZfTCfXG",
        "colab_type": "code",
        "colab": {}
      },
      "source": [
        "import pandas as pd"
      ],
      "execution_count": null,
      "outputs": []
    },
    {
      "cell_type": "code",
      "metadata": {
        "id": "7a_JWk5yCw6s",
        "colab_type": "code",
        "colab": {}
      },
      "source": [
        "data=pd.read_csv('data1.csv')\n",
        "d=pd.DataFrame(data)"
      ],
      "execution_count": null,
      "outputs": []
    },
    {
      "cell_type": "code",
      "metadata": {
        "id": "yBWLAyl3DIwp",
        "colab_type": "code",
        "colab": {}
      },
      "source": [
        "print(d)"
      ],
      "execution_count": null,
      "outputs": []
    },
    {
      "cell_type": "code",
      "metadata": {
        "id": "552GW2rVDefW",
        "colab_type": "code",
        "colab": {}
      },
      "source": [
        "import plotly.graph_objects as go\n",
        "import plotly.express as px"
      ],
      "execution_count": null,
      "outputs": []
    },
    {
      "cell_type": "code",
      "metadata": {
        "id": "L8eH16ObD0pX",
        "colab_type": "code",
        "colab": {}
      },
      "source": [
        "map_active = go.Scattermapbox(\n",
        "        customdata=d.loc[:,['ACTIVE CASES',\"CONFIRMED CASES\",\"DECEASED CASES\",\"RECOVERED CASES\"]],\n",
        "        name='ACTIVE CASES',\n",
        "        lon=d['longitude'],\n",
        "        lat=d['Latitude'],\n",
        "        mode='markers',\n",
        "        text=d['District'],\n",
        "        hovertemplate=\n",
        "        \"<b>%{text}</b><br><br>\" +\n",
        "        \"ACTIVE: %{customdata[0]}<br>\" +\n",
        "        \"<extra></extra>\",\n",
        "        fillcolor='mediumturquoise',\n",
        "        showlegend=True,\n",
        "        \n",
        "        marker=go.scattermapbox.Marker(\n",
        "            size=10,\n",
        "            color='Red',\n",
        "            opacity=1\n",
        "        ),\n",
        "        opacity=0.5,\n",
        "\n",
        "    )"
      ],
      "execution_count": null,
      "outputs": []
    },
    {
      "cell_type": "code",
      "metadata": {
        "id": "PPEtc3IhD9e-",
        "colab_type": "code",
        "colab": {}
      },
      "source": [
        "map_confirmed = go.Scattermapbox(\n",
        "        customdata=d.loc[:,['ACTIVE CASES',\"CONFIRMED CASES\",\"DECEASED CASES\",\"RECOVERED CASES\"]],\n",
        "        name='CONFIRMED CASES',\n",
        "        lon=d['longitude'],\n",
        "        lat=d['Latitude'],\n",
        "        mode='markers',\n",
        "        text=d['District'],\n",
        "        hovertemplate=\n",
        "        \"<b>%{text}</b><br><br>\" +\n",
        "        \"CONFIRMED : %{customdata[1]}<br>\" +\n",
        "        \"<extra></extra>\",\n",
        "        fillcolor='mediumturquoise',\n",
        "        showlegend=True,\n",
        "\n",
        "        marker=go.scattermapbox.Marker(\n",
        "            size=10,\n",
        "            color='YELLOW',\n",
        "            opacity=1\n",
        "        ),\n",
        "        opacity=0.5,\n",
        "\n",
        "    )"
      ],
      "execution_count": null,
      "outputs": []
    },
    {
      "cell_type": "code",
      "metadata": {
        "id": "WRzVyVNfED7q",
        "colab_type": "code",
        "colab": {}
      },
      "source": [
        "map_deceased = go.Scattermapbox(\n",
        "        customdata=d.loc[:,['ACTIVE CASES',\"CONFIRMED CASES\",\"DECEASED CASES\",\"RECOVERED CASES\"]],\n",
        "        name='DECEASED CASES',\n",
        "        lon=d['longitude'],\n",
        "        lat=d['Latitude'],\n",
        "        mode='markers',\n",
        "        text=d['District'],\n",
        "        hovertemplate=\n",
        "        \"<b>%{text}</b><br><br>\" +\n",
        "        \"DECEASED : %{customdata[2]}<br>\" +\n",
        "        \"<extra></extra>\",\n",
        "        fillcolor='mediumturquoise',\n",
        "        showlegend=True,\n",
        "\n",
        "        marker=go.scattermapbox.Marker(\n",
        "            size=10,\n",
        "            color=\"Green\",\n",
        "            opacity=1,\n",
        "        ),\n",
        "        opacity=0.5,\n",
        "\n",
        "    )"
      ],
      "execution_count": null,
      "outputs": []
    },
    {
      "cell_type": "code",
      "metadata": {
        "id": "CSBYaPk3EJca",
        "colab_type": "code",
        "colab": {}
      },
      "source": [
        "map_recovered = go.Scattermapbox(\n",
        "        customdata=d.loc[:,['ACTIVE CASES',\"CONFIRMED CASES\",\"DECEASED CASES\",\"RECOVERED CASES\"]],\n",
        "        name='RECOVERED CASES',\n",
        "        lon=d['longitude'],\n",
        "        lat=d['Latitude'],\n",
        "        mode='markers',\n",
        "        text=d['District'],\n",
        "        hovertemplate=\n",
        "        \"<b>%{text}</b><br><br>\" +\n",
        "        \"RECOVERED : %{customdata[3]}<br>\" +\n",
        "        \"<extra></extra>\",\n",
        "        fillcolor='mediumturquoise',\n",
        "        showlegend=True,\n",
        "       \n",
        "        marker=go.scattermapbox.Marker(\n",
        "            size=10,\n",
        "            color=\"BLUE\",\n",
        "            opacity=1,\n",
        "        ),\n",
        "        opacity=0.5,\n",
        "\n",
        "    )"
      ],
      "execution_count": null,
      "outputs": []
    },
    {
      "cell_type": "code",
      "metadata": {
        "id": "Lp5kRhvbEPtB",
        "colab_type": "code",
        "colab": {}
      },
      "source": [
        "   layout = go.Layout(\n",
        "        height=800,\n",
        "        mapbox_style=\"stamen-watercolor\",\n",
        "        autosize=True,\n",
        "        #mapbox_layers=[\n",
        "           # {\n",
        "               # \"below\": 'traces',\n",
        "               # \"sourcetype\": \"raster\",\n",
        "               # \"source\": [\n",
        "               #     \"https://basemap.nationalmap.gov/arcgis/rest/services/USGSImageryOnly/MapServer/tile/{z}/{y}/{x}\"\n",
        "                    \n",
        "               # ]\n",
        "            #}\n",
        "        #],'''\n",
        "        font=dict(\n",
        "            family=\"Courier New, monospace\",\n",
        "            size=18,\n",
        "            color=\"#7f7f7f\"\n",
        "            \n",
        "        ),\n",
        "        paper_bgcolor='rgba(0,0,0,0)',\n",
        "        plot_bgcolor='rgba(0,0,0,0)'\n",
        "    )"
      ],
      "execution_count": null,
      "outputs": []
    },
    {
      "cell_type": "code",
      "metadata": {
        "id": "fLSX_yjNEarN",
        "colab_type": "code",
        "colab": {}
      },
      "source": [
        "data = [map_active,map_confirmed,map_deceased,map_recovered]\n",
        "\n",
        "fig = go.Figure(data=data, layout=layout)\n",
        "fig.update_layout(title='COVID 19 REAL-TIME REPORT <br>BY NAVEEN')\n",
        "fig.update_layout(mapbox_style=\"open-street-map\")\n",
        "\n",
        "fig.show()"
      ],
      "execution_count": null,
      "outputs": []
    },
    {
      "cell_type": "markdown",
      "metadata": {
        "id": "f1k0T5ZpFQZv",
        "colab_type": "text"
      },
      "source": [
        "https://drive.google.com/file/d/1RwYIsSTax0gsQVr8PLKOPwB4BO5CN1p9/view?usp=sharing"
      ]
    }
  ]
}